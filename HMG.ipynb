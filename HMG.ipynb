{
 "cells": [
  {
   "cell_type": "code",
   "execution_count": 1,
   "id": "3cd8ff09",
   "metadata": {},
   "outputs": [
    {
     "data": {
      "text/plain": [
       "'\\n******\\n******\\n****o*\\np***o*\\npy**o*\\npyt*o*\\npytho*\\npython\\n'"
      ]
     },
     "execution_count": 1,
     "metadata": {},
     "output_type": "execute_result"
    }
   ],
   "source": [
    "'''\n",
    "******\n",
    "******\n",
    "****o*\n",
    "p***o*\n",
    "py**o*\n",
    "pyt*o*\n",
    "pytho*\n",
    "python\n",
    "'''"
   ]
  },
  {
   "cell_type": "code",
   "execution_count": 2,
   "id": "7ddd3160",
   "metadata": {},
   "outputs": [],
   "source": [
    "from random import choice"
   ]
  },
  {
   "cell_type": "code",
   "execution_count": 3,
   "id": "0f80dabb",
   "metadata": {},
   "outputs": [],
   "source": [
    "def word_generator():\n",
    "    with open(\"wordlist.txt\",\"r\") as f:\n",
    "      lines = f.readlines()\n",
    "    f.close()\n",
    "    lines = [i.strip(\"\\n\") for i in lines]\n",
    "    return choice(lines)"
   ]
  },
  {
   "cell_type": "code",
   "execution_count": 4,
   "id": "94c44857",
   "metadata": {},
   "outputs": [
    {
     "data": {
      "text/plain": [
       "'visaghappattanam'"
      ]
     },
     "execution_count": 4,
     "metadata": {},
     "output_type": "execute_result"
    }
   ],
   "source": [
    "word_generator()"
   ]
  },
  {
   "cell_type": "code",
   "execution_count": 5,
   "id": "b91062b8",
   "metadata": {},
   "outputs": [
    {
     "name": "stdout",
     "output_type": "stream",
     "text": [
      "You are left with {} turns 15\n",
      "\n",
      "Make a guess : V\n",
      "**********You are left with {} turns 14\n",
      "\n",
      "Make a guess : i\n",
      "**i*******You are left with {} turns 13\n",
      "\n",
      "Make a guess : v\n",
      "**i*******You are left with {} turns 12\n",
      "\n",
      "Make a guess : p\n",
      "**i*******You are left with {} turns 11\n",
      "\n",
      "Make a guess : f\n",
      "**i*******You are left with {} turns 10\n",
      "\n",
      "Make a guess : n\n",
      "**i*******You are left with {} turns 9\n",
      "\n",
      "Make a guess : c\n",
      "c*i*******You are left with {} turns 8\n",
      "\n",
      "Make a guess : b\n",
      "c*i*b*****You are left with {} turns 7\n",
      "\n",
      "Make a guess : o\n",
      "coi*b**oo*You are left with {} turns 6\n",
      "\n",
      "Make a guess : a\n",
      "coi*ba*oo*You are left with {} turns 5\n",
      "\n",
      "Make a guess : t\n",
      "coi*batoo*You are left with {} turns 4\n",
      "\n",
      "Make a guess : r\n",
      "coi*batoorYou are left with {} turns 3\n",
      "\n",
      "Make a guess : m\n",
      "coimbatoor\n",
      "Hurray!! You Won...\n"
     ]
    }
   ],
   "source": [
    "word = word_generator()\n",
    "guessed = \"\"\n",
    "turns = int(len(word)*1.5)\n",
    "while (True):\n",
    "    print(\"You are left with {} turns\",format(turns))\n",
    "    inp = input(\"\\nMake a guess : \")\n",
    "    turns = turns - 1\n",
    "    if inp in word:\n",
    "        guessed = guessed + inp\n",
    "    unguessed_char = 0\n",
    "    for i in word:\n",
    "        if i in guessed:\n",
    "            print(i,end=\"\")\n",
    "        else:\n",
    "            unguessed_char += 1\n",
    "            print(\"*\",end=\"\")\n",
    "    if unguessed_char == 0:\n",
    "        print(\"\\nHurray!! You Won...\")\n",
    "        break\n",
    "    if turns==0:\n",
    "        print(\"\\ntoin toin..... You ran out of attempts\")\n",
    "        break"
   ]
  },
  {
   "cell_type": "code",
   "execution_count": null,
   "id": "fe4b1455",
   "metadata": {},
   "outputs": [],
   "source": []
  }
 ],
 "metadata": {
  "kernelspec": {
   "display_name": "Python 3 (ipykernel)",
   "language": "python",
   "name": "python3"
  },
  "language_info": {
   "codemirror_mode": {
    "name": "ipython",
    "version": 3
   },
   "file_extension": ".py",
   "mimetype": "text/x-python",
   "name": "python",
   "nbconvert_exporter": "python",
   "pygments_lexer": "ipython3",
   "version": "3.9.6"
  }
 },
 "nbformat": 4,
 "nbformat_minor": 5
}
